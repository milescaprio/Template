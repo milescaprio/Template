{
 "cells": [
  {
   "cell_type": "code",
   "execution_count": null,
   "metadata": {},
   "outputs": [],
   "source": [
    "#Imports:\n",
    "import importlib\n",
    "\n",
    "#Cell routine blocking:\n",
    "ne = False #Short for nonessential_enabled: Guard long scripts with \"if ne:\"\n",
    "\n",
    "#Source:\n",
    "src = \"clustering\"\n",
    "srcmod = importlib.import_module(src)\n",
    "importlib.reload(srcmod)\n",
    "c = srcmod\n",
    "def reload_src():\n",
    "    global srcmod\n",
    "    global c\n",
    "    srcmod = importlib.import_module(src)\n",
    "    importlib.reload(srcmod)\n",
    "    c = srcmod"
   ]
  },
  {
   "cell_type": "code",
   "execution_count": null,
   "metadata": {},
   "outputs": [],
   "source": [
    "ne = True"
   ]
  }
 ],
 "metadata": {
  "language_info": {
   "name": "python"
  }
 },
 "nbformat": 4,
 "nbformat_minor": 2
}
